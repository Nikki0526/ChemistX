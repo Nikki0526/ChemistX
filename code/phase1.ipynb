{
  "nbformat": 4,
  "nbformat_minor": 0,
  "metadata": {
    "colab": {
      "provenance": [],
      "collapsed_sections": [
        "PMAJRHCix770"
      ]
    },
    "kernelspec": {
      "name": "python3",
      "display_name": "Python 3"
    },
    "language_info": {
      "name": "python"
    }
  },
  "cells": [
    {
      "cell_type": "code",
      "execution_count": null,
      "metadata": {
        "id": "RnKrkF13VJE6"
      },
      "outputs": [],
      "source": [
        "pip install chromadb"
      ]
    },
    {
      "cell_type": "code",
      "source": [
        "pip install langchain"
      ],
      "metadata": {
        "id": "MHl1ei1mYaQL"
      },
      "execution_count": null,
      "outputs": []
    },
    {
      "cell_type": "code",
      "source": [
        "pip install openai==1.3.7"
      ],
      "metadata": {
        "id": "giBkDXyZZspl"
      },
      "execution_count": null,
      "outputs": []
    },
    {
      "cell_type": "code",
      "source": [
        "from google.colab import drive\n",
        "drive.mount('/content/drive')"
      ],
      "metadata": {
        "colab": {
          "base_uri": "https://localhost:8080/"
        },
        "id": "ux8knDLwYE6n",
        "outputId": "f49b78d4-f073-46b1-b3f1-595e1a06edb8"
      },
      "execution_count": null,
      "outputs": [
        {
          "output_type": "stream",
          "name": "stdout",
          "text": [
            "Mounted at /content/drive\n"
          ]
        }
      ]
    },
    {
      "cell_type": "code",
      "source": [
        "import os\n",
        "#import getpass\n",
        "\n",
        "os.environ[\"OPENAI_API_BASE\"] = 'https://oneapi.xty.app/v1'\n",
        "os.environ[\"OPENAI_API_KEY\"] = 'sk-xxxxxxxxxxxxxxxxxxxxxxxxxxxxxxxxxxxxxxxx'"
      ],
      "metadata": {
        "id": "qnKoaNHXWNLo"
      },
      "execution_count": null,
      "outputs": []
    },
    {
      "cell_type": "code",
      "source": [
        "os.chdir(\"/content/drive/MyDrive/Colab Notebooks/research/AI agent/100\")"
      ],
      "metadata": {
        "id": "ay73gaBKWNNt"
      },
      "execution_count": null,
      "outputs": []
    },
    {
      "cell_type": "code",
      "source": [
        "from langchain.document_loaders import TextLoader\n",
        "from langchain.embeddings.openai import OpenAIEmbeddings\n",
        "from langchain.text_splitter import CharacterTextSplitter\n",
        "from langchain.vectorstores import Chroma"
      ],
      "metadata": {
        "id": "B1Ic8ExUISEG"
      },
      "execution_count": null,
      "outputs": []
    },
    {
      "cell_type": "code",
      "source": [
        "from langchain.schema.document import Document\n",
        "\n",
        "\n",
        "documents =  Document(page_content='people, bus, road', metadata={\"source\": \"local\"})"
      ],
      "metadata": {
        "id": "pa0SmkLdISGJ"
      },
      "execution_count": null,
      "outputs": []
    },
    {
      "cell_type": "code",
      "source": [
        "db = Chroma.from_documents([documents], OpenAIEmbeddings(), collection_metadata={\"hnsw:space\": \"ip\"})"
      ],
      "metadata": {
        "id": "l-hZ9RgaISIm"
      },
      "execution_count": null,
      "outputs": []
    },
    {
      "cell_type": "code",
      "source": [
        "query = \"people\"\n",
        "docs = db.similarity_search_with_relevance_scores(query,k=1)"
      ],
      "metadata": {
        "id": "HIbNW30YISK5"
      },
      "execution_count": null,
      "outputs": []
    },
    {
      "cell_type": "code",
      "source": [
        "from langchain.document_loaders import TextLoader\n",
        "from langchain.embeddings.openai import OpenAIEmbeddings\n",
        "from langchain.text_splitter import CharacterTextSplitter\n",
        "from langchain.vectorstores import Chroma\n",
        "\n",
        "# Load the document, split it into chunks, embed each chunk and load it into the vector store.\n",
        "raw_documents = TextLoader('51d3bc1035b34be8c39a9f06b41a07f2f3f8_1.txt').load()\n",
        "text_splitter = CharacterTextSplitter(chunk_size=1000, chunk_overlap=0)\n",
        "documents = text_splitter.split_documents(raw_documents)\n",
        "#db = Chroma.from_documents(documents, OpenAIEmbeddings())\n",
        "db = Chroma.from_documents(documents, OpenAIEmbeddings(), collection_metadata={\"hnsw:space\": \"ip\"})"
      ],
      "metadata": {
        "colab": {
          "base_uri": "https://localhost:8080/"
        },
        "id": "xSo-3FrzVbHw",
        "outputId": "9077124a-0b5c-4d6b-e921-943c89ad1d22"
      },
      "execution_count": null,
      "outputs": [
        {
          "output_type": "stream",
          "name": "stderr",
          "text": [
            "WARNING:langchain.text_splitter:Created a chunk of size 4641, which is longer than the specified 1000\n",
            "WARNING:langchain.text_splitter:Created a chunk of size 1299, which is longer than the specified 1000\n",
            "WARNING:langchain.text_splitter:Created a chunk of size 5232, which is longer than the specified 1000\n",
            "WARNING:langchain.text_splitter:Created a chunk of size 4180, which is longer than the specified 1000\n",
            "WARNING:langchain.text_splitter:Created a chunk of size 1315, which is longer than the specified 1000\n",
            "WARNING:langchain.text_splitter:Created a chunk of size 6037, which is longer than the specified 1000\n",
            "WARNING:langchain.text_splitter:Created a chunk of size 1036, which is longer than the specified 1000\n",
            "WARNING:langchain.text_splitter:Created a chunk of size 6095, which is longer than the specified 1000\n",
            "WARNING:langchain.text_splitter:Created a chunk of size 1485, which is longer than the specified 1000\n",
            "WARNING:langchain.text_splitter:Created a chunk of size 5205, which is longer than the specified 1000\n",
            "WARNING:langchain.text_splitter:Created a chunk of size 2076, which is longer than the specified 1000\n"
          ]
        }
      ]
    },
    {
      "cell_type": "code",
      "source": [
        "query = \"My input smiles is CN1C2=CC=CC(C3=CC=C4N=CC=CC4=C3)=C2C=N1, please help me generate python code to get 2-D similar molecule using PubChem API.\"\n",
        "docs = db.similarity_search_with_relevance_scores(query,k=50)"
      ],
      "metadata": {
        "colab": {
          "base_uri": "https://localhost:8080/"
        },
        "id": "IfHx1ObSrRXw",
        "outputId": "427caf84-104a-4859-c516-0b9432a1ba48"
      },
      "execution_count": null,
      "outputs": [
        {
          "output_type": "stream",
          "name": "stderr",
          "text": [
            "WARNING:chromadb.segment.impl.vector.local_hnsw:Number of requested results 50 is greater than number of elements in index 18, updating n_results = 18\n"
          ]
        }
      ]
    },
    {
      "cell_type": "code",
      "source": [
        "query = \"How to perform 2-D similarity search\"\n",
        "docs = db.similarity_search_with_score(query,k=50)"
      ],
      "metadata": {
        "colab": {
          "base_uri": "https://localhost:8080/"
        },
        "id": "xfiqaAQSvKpo",
        "outputId": "91c1e44f-7a2b-41ff-d1a3-ecbe6f860c6d"
      },
      "execution_count": null,
      "outputs": [
        {
          "output_type": "stream",
          "name": "stderr",
          "text": [
            "WARNING:chromadb.segment.impl.vector.local_hnsw:Number of requested results 50 is greater than number of elements in index 18, updating n_results = 18\n"
          ]
        }
      ]
    },
    {
      "cell_type": "markdown",
      "source": [
        "### inner product"
      ],
      "metadata": {
        "id": "2bD6TPnvFRqX"
      }
    },
    {
      "cell_type": "code",
      "source": [
        "query = \"How to perform 2-D similarity search\"\n",
        "docs = db.similarity_search_with_relevance_scores(query,k=50)"
      ],
      "metadata": {
        "colab": {
          "base_uri": "https://localhost:8080/"
        },
        "id": "-TrMTsWDFTbH",
        "outputId": "c77bf961-d1bb-46de-96f4-d9eae1d1f5f3"
      },
      "execution_count": null,
      "outputs": [
        {
          "output_type": "stream",
          "name": "stderr",
          "text": [
            "WARNING:chromadb.segment.impl.vector.local_hnsw:Number of requested results 50 is greater than number of elements in index 18, updating n_results = 18\n"
          ]
        }
      ]
    },
    {
      "cell_type": "code",
      "source": [
        "for i in range(len(docs)):\n",
        "  print(docs[i][1])"
      ],
      "metadata": {
        "colab": {
          "base_uri": "https://localhost:8080/"
        },
        "id": "WUuWpdGYFTgN",
        "outputId": "9bd4c823-6c9e-44f3-c839-18e413cf3161"
      },
      "execution_count": null,
      "outputs": [
        {
          "output_type": "stream",
          "name": "stdout",
          "text": [
            "0.8118360042572021\n",
            "0.8050254583358765\n",
            "0.7794522047042847\n",
            "0.7561227679252625\n",
            "0.7367781400680542\n",
            "0.7359175682067871\n",
            "0.7245218753814697\n",
            "0.7208773493766785\n",
            "0.7184016108512878\n",
            "0.7147347927093506\n",
            "0.7101709246635437\n",
            "0.7099320888519287\n",
            "0.7095848321914673\n",
            "0.7010208964347839\n",
            "0.6938539743423462\n",
            "0.6898643970489502\n",
            "0.6881193518638611\n",
            "0.6845148205757141\n"
          ]
        }
      ]
    },
    {
      "cell_type": "markdown",
      "source": [
        "### cosine distance"
      ],
      "metadata": {
        "id": "WbqGF-sLCMYA"
      }
    },
    {
      "cell_type": "code",
      "source": [
        "query = \"How to perform 2-D similarity search\"\n",
        "docs = db.similarity_search_with_relevance_scores(query,k=50)"
      ],
      "metadata": {
        "colab": {
          "base_uri": "https://localhost:8080/"
        },
        "id": "gIEsKR2GCC9y",
        "outputId": "37e13f1b-4f9c-41a9-83eb-90c2dc85c723"
      },
      "execution_count": null,
      "outputs": [
        {
          "output_type": "stream",
          "name": "stderr",
          "text": [
            "WARNING:chromadb.segment.impl.vector.local_hnsw:Number of requested results 50 is greater than number of elements in index 18, updating n_results = 18\n"
          ]
        }
      ]
    },
    {
      "cell_type": "code",
      "source": [
        "for i in range(len(docs)):\n",
        "  print(docs[i][1])"
      ],
      "metadata": {
        "colab": {
          "base_uri": "https://localhost:8080/"
        },
        "id": "eM2hrA2nCED9",
        "outputId": "93b49c9a-62b5-4f91-fa3d-88d85abce32d"
      },
      "execution_count": null,
      "outputs": [
        {
          "output_type": "stream",
          "name": "stdout",
          "text": [
            "0.8118367791175842\n",
            "0.8050261735916138\n",
            "0.7794528603553772\n",
            "0.7561233043670654\n",
            "0.7367786765098572\n",
            "0.7359180450439453\n",
            "0.7245229482650757\n",
            "0.7208778262138367\n",
            "0.7184019088745117\n",
            "0.7147352695465088\n",
            "0.7101714611053467\n",
            "0.7099325656890869\n",
            "0.7095852494239807\n",
            "0.7010214924812317\n",
            "0.693854808807373\n",
            "0.6898650527000427\n",
            "0.6881195306777954\n",
            "0.6845157742500305\n"
          ]
        }
      ]
    },
    {
      "cell_type": "markdown",
      "source": [
        "### L2 distance"
      ],
      "metadata": {
        "id": "G0Sscssj91rf"
      }
    },
    {
      "cell_type": "code",
      "source": [
        "query = \"How to perform 2-D similarity search\"\n",
        "docs = db.similarity_search_with_relevance_scores(query,k=50)"
      ],
      "metadata": {
        "colab": {
          "base_uri": "https://localhost:8080/"
        },
        "id": "frNQTDiC7Ymx",
        "outputId": "95daadbb-b464-4551-e95f-e19b39010b66"
      },
      "execution_count": null,
      "outputs": [
        {
          "output_type": "stream",
          "name": "stderr",
          "text": [
            "WARNING:chromadb.segment.impl.vector.local_hnsw:Number of requested results 50 is greater than number of elements in index 18, updating n_results = 18\n"
          ]
        }
      ]
    },
    {
      "cell_type": "code",
      "source": [
        "for i in range(len(docs)):\n",
        "  print(docs[i][1])"
      ],
      "metadata": {
        "colab": {
          "base_uri": "https://localhost:8080/"
        },
        "id": "v48EQa8P80nz",
        "outputId": "aee1fcb2-0329-4611-9f49-fb717319493c"
      },
      "execution_count": null,
      "outputs": [
        {
          "output_type": "stream",
          "name": "stdout",
          "text": [
            "0.7338959674170704\n",
            "0.7242643167142699\n",
            "0.6880986539161025\n",
            "0.6551053001116529\n",
            "0.6277479914774741\n",
            "0.6265308747861764\n",
            "0.610415100027369\n",
            "0.6052609619229716\n",
            "0.601759359601838\n",
            "0.5965739485358458\n",
            "0.5901194537143419\n",
            "0.5897817731640727\n",
            "0.5892908466726178\n",
            "0.5771794018439818\n",
            "0.5670438855672334\n",
            "0.5614021084255651\n",
            "0.5589342840047067\n",
            "0.5538368334115567\n"
          ]
        }
      ]
    },
    {
      "cell_type": "code",
      "source": [
        "print(docs[0][0].page_content)"
      ],
      "metadata": {
        "colab": {
          "base_uri": "https://localhost:8080/"
        },
        "id": "SPIEeFa0tx6H",
        "outputId": "d2b689f1-2911-4bf6-b631-94bfca039800"
      },
      "execution_count": null,
      "outputs": [
        {
          "output_type": "stream",
          "name": "stdout",
          "text": [
            "search, the similarity between conformers are evaluated                    Note that the ‘Threshold’ option takes the integer value of\n",
            "with the shape-Tanimoto (ST) and color-Tanimoto (CT)                       80 (multiplying 0.80 by 100).\n",
            "scores, which quantify the similarity between their conform-                  For most queries, the new fast chemical search approach\n",
            "ers in 3-D shape and functional group orientations, respec-                in PUG-REST provides a dramatic benefit of programmatic\n",
            "tively (8,9). The ST and CT scores are calculated using the                simplicity, speed, and convenience. In contrast, it is worth\n",
            "Gaussian-shape overlay method by Grant and Pickup (10–                     noting that some complicated chemical structure searches\n",
            "12), and implemented in the Rapid Overlay of Chemical                      will not complete rapidly, and may fail as a result. Although\n",
            "Structures (ROCS) (13). Up to ten conformers per com-                      one may try the older queued-approach in asynchronous\n",
            "pound are considered during the 3-D similarity search.                     way to circumvent this issue, it is more likely that the query\n",
            "More details about PubChem’s 3-D similarity search are de-                 itself is not very specific enough, resulting in too many hits\n",
            "scribed elsewhere (8,9,14,15).                                             that the search system cannot handle (for example, sub-\n",
            "   Most of the optional parameters used in asynchronous                    structure search using benzene as a query, which would lead\n",
            "operations can also be used in their synchronous variants.                 to millions of hit compounds). Therefore, in such cases, it is\n",
            "A notable exception is the ‘listkey’ parameter, which al-                  highly recommended to provide a more specific query that\n",
            "lows one to restrict the structure search to hits from a prior             may lead to less hits.\n",
            "search (specified by the numeric list key). This optional pa-\n",
            "rameter is not (currently) supported in synchronous struc-\n",
            "ture searches. Note also that the 3-D similarity search can-               LIST GATEWAY\n",
            "not accept a customized threshold. The threshold used for\n",
            "                                                                           Entrez (18–20) is a data retrieval system that provides in-\n",
            "the 3-D similarity search is (currently) fixed to ST = 0.80\n",
            "                                                                           tegrated access to the three PubChem databases (Com-\n",
            "and CT = 0.50, which is identical to the threshold used for\n",
            "                                                                           pound, Substance, and BioAssay) (1,2) as well as tens of\n",
            "PubChem 3-D neighbor computations (16,17). In contrast,\n",
            "                                                                           other NCBI databases in a wide range of biomedical data\n",
            "the threshold for 2-D similarity search is adjustable using\n",
            "                                                                           domains, including nucleotide and protein sequences, gene\n",
            "the option ‘Threshold’. For instance, the following URL\n",
            "                                                                           records, 3-D molecular structures, and the biomedical liter-\n",
            "performs a synchronous 2-D similarity search using a Tan-\n",
            "                                                                           ature (21). Programmatic access to data within the Entrez\n",
            "imoto threshold of 0.80:\n",
            "                                                                           system is provided through a set of programs, called Entrez\n",
            "                                                                           Programming Utilities (also known as E-Utilities: https:\n",
            "https://pubchem.ncbi.nlm.nih.gov/rest/pug/compound/                        //www.ncbi.nlm.nih.gov/books/NBK25501/). While appro-\n",
            " fastsimilarity 2d/cid/446157/cids/TXT?Threshold=80                        priate for searching or accessing text and numeric data, E-\n",
            "\f                                                                    Nucleic Acids Research, 2018, Vol. 46, Web Server issue W567\n"
          ]
        }
      ]
    },
    {
      "cell_type": "markdown",
      "source": [
        "# prompt to GPT"
      ],
      "metadata": {
        "id": "da0TNvQd4bZc"
      }
    },
    {
      "cell_type": "code",
      "source": [
        "file_list = []"
      ],
      "metadata": {
        "id": "qArCd60yDZeO"
      },
      "execution_count": null,
      "outputs": []
    },
    {
      "cell_type": "code",
      "source": [
        "import re\n",
        "\n",
        "def extract_and_save_python_code(text, name, repeated_times):\n",
        "\n",
        "    # Regular expression pattern for extracting Python code blocks\n",
        "    pattern = r\"```python(.*?)```\"\n",
        "    # Use re.DOTALL to match across multiple lines\n",
        "    matches = re.findall(pattern, text, re.DOTALL)\n",
        "\n",
        "    # Save each extracted code block to a separate .py file\n",
        "    for i, code_block in enumerate(matches, 1):\n",
        "        file_name = f\"extracted_code_block_{name}_{repeated_times}_{i}.py\"\n",
        "        with open(file_name, 'w') as file:\n",
        "            file.write(code_block.strip())\n",
        "        print(f\"Saved Python code to {file_name}\")\n",
        "\n",
        "    file_list.append(file_name)\n",
        "\n",
        "    return matches"
      ],
      "metadata": {
        "id": "Bli1UNAr7X3A"
      },
      "execution_count": null,
      "outputs": []
    },
    {
      "cell_type": "code",
      "source": [
        "from openai import OpenAI\n",
        "\n",
        "client = OpenAI(\n",
        "    base_url=\"https://oneapi.xty.app/v1\",\n",
        "    api_key=\"sk-XXXXXXXXXXXXXXXXXXXXXXXXXXXXXXXXXXXXXXXXXXXXXX\"\n",
        ")"
      ],
      "metadata": {
        "id": "xWZ485Au5MdT"
      },
      "execution_count": null,
      "outputs": []
    },
    {
      "cell_type": "markdown",
      "source": [
        "## zeroshot"
      ],
      "metadata": {
        "id": "ulRhMOm4AwG2"
      }
    },
    {
      "cell_type": "code",
      "source": [
        "def prompt_function_zeroshot():\n",
        "  completion = client.chat.completions.create(\n",
        "  model=\"gpt-4-32k\",\n",
        "  messages=[{\"role\": \"system\", \"content\": \"You are a helpful assistant on chemistry.\"},\n",
        "    {\"role\": \"user\", \"content\": '''My input smiles is \"CN1C2=CC=CC(C3=CC=C4N=CC=CC4=C3)=C2C=N1\", please help me generate python code to get similar molecule using PubChem API.\n",
        "    '''}\n",
        "  ],\n",
        "  stream = True\n",
        ")\n",
        "  return completion"
      ],
      "metadata": {
        "id": "ajAjGoGP4dh0"
      },
      "execution_count": null,
      "outputs": []
    },
    {
      "cell_type": "code",
      "source": [
        "for i in range(10):\n",
        "  completion = prompt_function_zeroshot()\n",
        "  text_print = \"\"\n",
        "\n",
        "  for chunk in completion:\n",
        "    if hasattr(chunk.choices[0].delta, 'content') and chunk.choices[0].delta.content is not None:\n",
        "      text_print = text_print + chunk.choices[0].delta.content\n",
        "\n",
        "  extracted_code_blocks = extract_and_save_python_code(text_print, 'zeroshot', i)"
      ],
      "metadata": {
        "colab": {
          "base_uri": "https://localhost:8080/"
        },
        "id": "ILTsoHwR4dkM",
        "outputId": "a6edbea7-c687-4e6d-8297-66b3517dc3ec"
      },
      "execution_count": null,
      "outputs": [
        {
          "output_type": "stream",
          "name": "stdout",
          "text": [
            "Saved Python code to extracted_code_block_zeroshot_0_1.py\n",
            "Saved Python code to extracted_code_block_zeroshot_1_1.py\n",
            "Saved Python code to extracted_code_block_zeroshot_2_1.py\n",
            "Saved Python code to extracted_code_block_zeroshot_3_1.py\n",
            "Saved Python code to extracted_code_block_zeroshot_4_1.py\n",
            "Saved Python code to extracted_code_block_zeroshot_5_1.py\n",
            "Saved Python code to extracted_code_block_zeroshot_6_1.py\n",
            "Saved Python code to extracted_code_block_zeroshot_6_2.py\n",
            "Saved Python code to extracted_code_block_zeroshot_7_1.py\n",
            "Saved Python code to extracted_code_block_zeroshot_8_1.py\n",
            "Saved Python code to extracted_code_block_zeroshot_9_1.py\n"
          ]
        }
      ]
    },
    {
      "cell_type": "markdown",
      "source": [
        "## all document"
      ],
      "metadata": {
        "id": "VyBlDxOTDlLZ"
      }
    },
    {
      "cell_type": "code",
      "source": [
        "def prompt_function_fewshot(content):\n",
        "  completion = client.chat.completions.create(\n",
        "  model=\"gpt-4-1106-preview\",\n",
        "  messages=[{\"role\": \"system\", \"content\": \"You are a helpful assistant on chemistry.\"},\n",
        "    {\"role\": \"user\", \"content\": f'''My input smiles is \"CN1C2=CC=CC(C3=CC=C4N=CC=CC4=C3)=C2C=N1\", please help me generate python code to get similar molecule using PubChem API. You can refer to: '{content}'.\n",
        "    '''}\n",
        "  ],\n",
        "  stream = True\n",
        ")\n",
        "  return completion"
      ],
      "metadata": {
        "id": "URv9NDrC4drr"
      },
      "execution_count": null,
      "outputs": []
    },
    {
      "cell_type": "code",
      "source": [
        "from tqdm import tqdm"
      ],
      "metadata": {
        "id": "K5wNIe2bGare"
      },
      "execution_count": null,
      "outputs": []
    },
    {
      "cell_type": "code",
      "source": [
        "import time\n",
        "\n",
        "time_list = []\n",
        "for i in tqdm(range(10)):\n",
        "  start_time = time.time()\n",
        "\n",
        "  completion = prompt_function_fewshot(str(raw_documents[0]))\n",
        "  text_print = \"\"\n",
        "\n",
        "  for chunk in completion:\n",
        "    if hasattr(chunk.choices[0].delta, 'content') and chunk.choices[0].delta.content is not None:\n",
        "      text_print = text_print + chunk.choices[0].delta.content\n",
        "\n",
        "  end_time = time.time()\n",
        "  execution_time = end_time - start_time\n",
        "  time_list.append(execution_time)\n",
        "\n",
        "  extracted_code_blocks = extract_and_save_python_code(text_print, 'alldocument', i)\n",
        "  print(time_list)"
      ],
      "metadata": {
        "colab": {
          "base_uri": "https://localhost:8080/"
        },
        "id": "OVYbRHzZ4duA",
        "outputId": "be0eb137-4366-47ba-9276-3d3a31327e9d"
      },
      "execution_count": null,
      "outputs": [
        {
          "output_type": "stream",
          "name": "stderr",
          "text": [
            " 10%|█         | 1/10 [00:16<02:28, 16.54s/it]"
          ]
        },
        {
          "output_type": "stream",
          "name": "stdout",
          "text": [
            "Saved Python code to extracted_code_block_alldocument_0_1.py\n",
            "[16.529057025909424]\n"
          ]
        },
        {
          "output_type": "stream",
          "name": "stderr",
          "text": [
            "\r 20%|██        | 2/10 [01:06<04:51, 36.49s/it]"
          ]
        },
        {
          "output_type": "stream",
          "name": "stdout",
          "text": [
            "Saved Python code to extracted_code_block_alldocument_1_1.py\n",
            "[16.529057025909424, 50.45263171195984]\n"
          ]
        },
        {
          "output_type": "stream",
          "name": "stderr",
          "text": [
            "\r 30%|███       | 3/10 [01:25<03:18, 28.32s/it]"
          ]
        },
        {
          "output_type": "stream",
          "name": "stdout",
          "text": [
            "Saved Python code to extracted_code_block_alldocument_2_1.py\n",
            "[16.529057025909424, 50.45263171195984, 18.59399175643921]\n"
          ]
        },
        {
          "output_type": "stream",
          "name": "stderr",
          "text": [
            "\r 40%|████      | 4/10 [01:58<03:00, 30.04s/it]"
          ]
        },
        {
          "output_type": "stream",
          "name": "stdout",
          "text": [
            "Saved Python code to extracted_code_block_alldocument_3_1.py\n",
            "[16.529057025909424, 50.45263171195984, 18.59399175643921, 32.66144776344299]\n"
          ]
        },
        {
          "output_type": "stream",
          "name": "stderr",
          "text": [
            "\r 50%|█████     | 5/10 [02:19<02:13, 26.70s/it]"
          ]
        },
        {
          "output_type": "stream",
          "name": "stdout",
          "text": [
            "Saved Python code to extracted_code_block_alldocument_4_1.py\n",
            "[16.529057025909424, 50.45263171195984, 18.59399175643921, 32.66144776344299, 20.767174005508423]\n"
          ]
        },
        {
          "output_type": "stream",
          "name": "stderr",
          "text": [
            "\r 60%|██████    | 6/10 [03:00<02:06, 31.74s/it]"
          ]
        },
        {
          "output_type": "stream",
          "name": "stdout",
          "text": [
            "Saved Python code to extracted_code_block_alldocument_5_1.py\n",
            "[16.529057025909424, 50.45263171195984, 18.59399175643921, 32.66144776344299, 20.767174005508423, 41.516963958740234]\n"
          ]
        },
        {
          "output_type": "stream",
          "name": "stderr",
          "text": [
            "\r 70%|███████   | 7/10 [03:38<01:41, 33.72s/it]"
          ]
        },
        {
          "output_type": "stream",
          "name": "stdout",
          "text": [
            "Saved Python code to extracted_code_block_alldocument_6_1.py\n",
            "[16.529057025909424, 50.45263171195984, 18.59399175643921, 32.66144776344299, 20.767174005508423, 41.516963958740234, 37.77752065658569]\n"
          ]
        },
        {
          "output_type": "stream",
          "name": "stderr",
          "text": [
            "\r 80%|████████  | 8/10 [04:18<01:11, 35.61s/it]"
          ]
        },
        {
          "output_type": "stream",
          "name": "stdout",
          "text": [
            "Saved Python code to extracted_code_block_alldocument_7_1.py\n",
            "[16.529057025909424, 50.45263171195984, 18.59399175643921, 32.66144776344299, 20.767174005508423, 41.516963958740234, 37.77752065658569, 39.645495653152466]\n"
          ]
        },
        {
          "output_type": "stream",
          "name": "stderr",
          "text": [
            "\r 90%|█████████ | 9/10 [05:02<00:38, 38.52s/it]"
          ]
        },
        {
          "output_type": "stream",
          "name": "stdout",
          "text": [
            "Saved Python code to extracted_code_block_alldocument_8_1.py\n",
            "[16.529057025909424, 50.45263171195984, 18.59399175643921, 32.66144776344299, 20.767174005508423, 41.516963958740234, 37.77752065658569, 39.645495653152466, 44.89113712310791]\n"
          ]
        },
        {
          "output_type": "stream",
          "name": "stderr",
          "text": [
            "100%|██████████| 10/10 [05:26<00:00, 32.66s/it]"
          ]
        },
        {
          "output_type": "stream",
          "name": "stdout",
          "text": [
            "Saved Python code to extracted_code_block_alldocument_9_1.py\n",
            "[16.529057025909424, 50.45263171195984, 18.59399175643921, 32.66144776344299, 20.767174005508423, 41.516963958740234, 37.77752065658569, 39.645495653152466, 44.89113712310791, 23.643864393234253]\n"
          ]
        },
        {
          "output_type": "stream",
          "name": "stderr",
          "text": [
            "\n"
          ]
        }
      ]
    },
    {
      "cell_type": "markdown",
      "source": [
        "## topmatch"
      ],
      "metadata": {
        "id": "x16-rDdXLJG5"
      }
    },
    {
      "cell_type": "code",
      "source": [
        "#time_list = []\n",
        "for i in tqdm(range(10)):\n",
        "  #start_time = time.time()\n",
        "\n",
        "  completion = prompt_function_fewshot(docs[0][0].page_content)\n",
        "  text_print = \"\"\n",
        "\n",
        "  for chunk in completion:\n",
        "    if hasattr(chunk.choices[0].delta, 'content') and chunk.choices[0].delta.content is not None:\n",
        "      text_print = text_print + chunk.choices[0].delta.content\n",
        "\n",
        "  #end_time = time.time()\n",
        "  #execution_time = end_time - start_time\n",
        "  #time_list.append(execution_time)\n",
        "\n",
        "  extracted_code_blocks = extract_and_save_python_code(text_print, 'topmatch', i)\n",
        "  #print(time_list)"
      ],
      "metadata": {
        "colab": {
          "base_uri": "https://localhost:8080/"
        },
        "id": "MrzhpMgLLMRH",
        "outputId": "64099e9a-5e0b-42a1-849a-9365ddd3d598"
      },
      "execution_count": null,
      "outputs": [
        {
          "output_type": "stream",
          "name": "stderr",
          "text": [
            " 10%|█         | 1/10 [00:17<02:34, 17.12s/it]"
          ]
        },
        {
          "output_type": "stream",
          "name": "stdout",
          "text": [
            "Saved Python code to extracted_code_block_topmatch_0_1.py\n"
          ]
        },
        {
          "output_type": "stream",
          "name": "stderr",
          "text": [
            "\r 20%|██        | 2/10 [00:53<03:48, 28.56s/it]"
          ]
        },
        {
          "output_type": "stream",
          "name": "stdout",
          "text": [
            "Saved Python code to extracted_code_block_topmatch_1_1.py\n"
          ]
        },
        {
          "output_type": "stream",
          "name": "stderr",
          "text": [
            "\r 30%|███       | 3/10 [01:24<03:28, 29.72s/it]"
          ]
        },
        {
          "output_type": "stream",
          "name": "stdout",
          "text": [
            "Saved Python code to extracted_code_block_topmatch_2_1.py\n"
          ]
        },
        {
          "output_type": "stream",
          "name": "stderr",
          "text": [
            "\r 40%|████      | 4/10 [02:00<03:11, 31.94s/it]"
          ]
        },
        {
          "output_type": "stream",
          "name": "stdout",
          "text": [
            "Saved Python code to extracted_code_block_topmatch_3_1.py\n"
          ]
        },
        {
          "output_type": "stream",
          "name": "stderr",
          "text": [
            "\r 50%|█████     | 5/10 [02:29<02:34, 31.00s/it]"
          ]
        },
        {
          "output_type": "stream",
          "name": "stdout",
          "text": [
            "Saved Python code to extracted_code_block_topmatch_4_1.py\n"
          ]
        },
        {
          "output_type": "stream",
          "name": "stderr",
          "text": [
            "\r 60%|██████    | 6/10 [02:59<02:02, 30.63s/it]"
          ]
        },
        {
          "output_type": "stream",
          "name": "stdout",
          "text": [
            "Saved Python code to extracted_code_block_topmatch_5_1.py\n"
          ]
        },
        {
          "output_type": "stream",
          "name": "stderr",
          "text": [
            "\r 70%|███████   | 7/10 [03:21<01:23, 27.98s/it]"
          ]
        },
        {
          "output_type": "stream",
          "name": "stdout",
          "text": [
            "Saved Python code to extracted_code_block_topmatch_6_1.py\n"
          ]
        },
        {
          "output_type": "stream",
          "name": "stderr",
          "text": [
            "\r 80%|████████  | 8/10 [03:46<00:53, 26.81s/it]"
          ]
        },
        {
          "output_type": "stream",
          "name": "stdout",
          "text": [
            "Saved Python code to extracted_code_block_topmatch_7_1.py\n"
          ]
        },
        {
          "output_type": "stream",
          "name": "stderr",
          "text": [
            "\r 90%|█████████ | 9/10 [04:19<00:28, 28.76s/it]"
          ]
        },
        {
          "output_type": "stream",
          "name": "stdout",
          "text": [
            "Saved Python code to extracted_code_block_topmatch_8_1.py\n"
          ]
        },
        {
          "output_type": "stream",
          "name": "stderr",
          "text": [
            "100%|██████████| 10/10 [05:16<00:00, 31.64s/it]"
          ]
        },
        {
          "output_type": "stream",
          "name": "stdout",
          "text": [
            "Saved Python code to extracted_code_block_topmatch_9_1.py\n"
          ]
        },
        {
          "output_type": "stream",
          "name": "stderr",
          "text": [
            "\n"
          ]
        }
      ]
    },
    {
      "cell_type": "markdown",
      "source": [
        "# random"
      ],
      "metadata": {
        "id": "ckoLqw70NR51"
      }
    },
    {
      "cell_type": "code",
      "source": [
        "import random\n",
        "\n",
        "random_integer = random.randint(0, 17)\n",
        "\n",
        "print(random_integer)"
      ],
      "metadata": {
        "colab": {
          "base_uri": "https://localhost:8080/"
        },
        "id": "1Jtkq7OpLusD",
        "outputId": "781d4ecf-68b9-4c8c-e8ae-e938119c4bef"
      },
      "execution_count": null,
      "outputs": [
        {
          "output_type": "stream",
          "name": "stdout",
          "text": [
            "6\n"
          ]
        }
      ]
    },
    {
      "cell_type": "code",
      "source": [
        "time_list = []\n",
        "for i in tqdm(range(1)):\n",
        "  start_time = time.time()\n",
        "\n",
        "  random_integer = random.randint(0, 17)\n",
        "  random_slice = documents[random_integer].page_content\n",
        "  completion = prompt_function_fewshot(random_slice)\n",
        "  text_print = \"\"\n",
        "\n",
        "  end_time = time.time()\n",
        "\n",
        "  for chunk in completion:\n",
        "    if hasattr(chunk.choices[0].delta, 'content') and chunk.choices[0].delta.content is not None:\n",
        "      text_print = text_print + chunk.choices[0].delta.content\n",
        "\n",
        "  execution_time = end_time - start_time\n",
        "  time_list.append(execution_time)\n",
        "\n",
        "  extracted_code_blocks = extract_and_save_python_code(text_print, 'random', 9)\n",
        "  print(time_list)"
      ],
      "metadata": {
        "colab": {
          "base_uri": "https://localhost:8080/"
        },
        "id": "fR1gfixcLuwv",
        "outputId": "6d8431ae-b296-4a3f-d6fb-f04a566cb6ba"
      },
      "execution_count": null,
      "outputs": [
        {
          "output_type": "stream",
          "name": "stderr",
          "text": [
            "100%|██████████| 1/1 [00:52<00:00, 52.32s/it]"
          ]
        },
        {
          "output_type": "stream",
          "name": "stdout",
          "text": [
            "Saved Python code to extracted_code_block_random_9_1.py\n",
            "[1.535128116607666]\n"
          ]
        },
        {
          "output_type": "stream",
          "name": "stderr",
          "text": [
            "\n"
          ]
        }
      ]
    }
  ]
}